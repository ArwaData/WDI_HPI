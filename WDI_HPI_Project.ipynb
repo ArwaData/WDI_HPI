{
 "cells": [
  {
   "cell_type": "markdown",
   "metadata": {},
   "source": [
    "# WDI & HPI Capstone Project"
   ]
  },
  {
   "cell_type": "markdown",
   "metadata": {},
   "source": [
    "### Machine Learning Engineer Nanodegree"
   ]
  },
  {
   "cell_type": "markdown",
   "metadata": {},
   "source": [
    "### Domain Background\n",
    "The World Development Indicators (WDI) is the World Bank's most comprehensive collection of cross-country development data. The World Development Indicators is a collection of data on global development and poverty reduction that are relevant, high-quality, and internationally comparable. The database comprises 1,400 time series indicators for 217 economies and more than 40 nation groupings, with many of the indicators having data going all the way back more than 50 years.\n",
    "\n",
    "The Happy Planet Index is a measure of sustainable wellbeing that ranks countries based on how effectively they use limited natural resources to produce long, happy lives. We need it because multiple crises, such as persistent inequalities, accelerating climate breakdown, and rapid biodiversity loss, are interconnected and stem from the same root cause: our economies are structured, governed, and measured to promote short-term economic growth over long-term collective wellbeing. Governments frequently place faster economic growth above all other considerations. They lose sight of what really matters: people living long, happy, and sustainable lives all across the world."
   ]
  },
  {
   "cell_type": "markdown",
   "metadata": {},
   "source": [
    "### Problem Statement\n",
    "The project aims to analyze the data and answer some questions that are relative to global development and poverty reduction for each dataset, and we will try to understand the problems that some countries are having then we will try to find the causation of it. in addition, we will use what I've learned in Machine learning to build a model that predict the happiness and well-being rate for some countries."
   ]
  },
  {
   "cell_type": "markdown",
   "metadata": {},
   "source": [
    "### Solution Statement\n",
    "We will start with data cleaning and preparing, like checking the null values and so on, then we will choose some countries to focus on since the WDI dataset has so many countries and we will choose which years we will be focusing on since not all the data are available after that we will try to answer to interesting questions to better understands the datasets and the problems each country have after that, we will build a model to predict the happiness and well-being rate for some countries and the reasons behind it."
   ]
  },
  {
   "cell_type": "code",
   "execution_count": 138,
   "metadata": {},
   "outputs": [],
   "source": [
    "# Import libraries\n",
    "import numpy as np\n",
    "import pandas as pd\n",
    "import matplotlib.pyplot as plt\n",
    "%matplotlib inline\n",
    "import seaborn as sns\n",
    "import math\n",
    "from sklearn.metrics import mean_squared_error, mean_absolute_error\n",
    "from sklearn.metrics import r2_score\n",
    "from sklearn import preprocessing\n"
   ]
  },
  {
   "cell_type": "code",
   "execution_count": 139,
   "metadata": {},
   "outputs": [
    {
     "data": {
      "text/html": [
       "<div>\n",
       "<style scoped>\n",
       "    .dataframe tbody tr th:only-of-type {\n",
       "        vertical-align: middle;\n",
       "    }\n",
       "\n",
       "    .dataframe tbody tr th {\n",
       "        vertical-align: top;\n",
       "    }\n",
       "\n",
       "    .dataframe thead th {\n",
       "        text-align: right;\n",
       "    }\n",
       "</style>\n",
       "<table border=\"1\" class=\"dataframe\">\n",
       "  <thead>\n",
       "    <tr style=\"text-align: right;\">\n",
       "      <th></th>\n",
       "      <th>Country Name</th>\n",
       "      <th>Country Code</th>\n",
       "      <th>Indicator Name</th>\n",
       "      <th>Indicator Code</th>\n",
       "      <th>Topic</th>\n",
       "      <th>1960</th>\n",
       "      <th>1961</th>\n",
       "      <th>1962</th>\n",
       "      <th>1963</th>\n",
       "      <th>1964</th>\n",
       "      <th>...</th>\n",
       "      <th>2011</th>\n",
       "      <th>2012</th>\n",
       "      <th>2013</th>\n",
       "      <th>2014</th>\n",
       "      <th>2015</th>\n",
       "      <th>2016</th>\n",
       "      <th>2017</th>\n",
       "      <th>2018</th>\n",
       "      <th>2019</th>\n",
       "      <th>2020</th>\n",
       "    </tr>\n",
       "  </thead>\n",
       "  <tbody>\n",
       "    <tr>\n",
       "      <td>0</td>\n",
       "      <td>Africa Eastern and Southern</td>\n",
       "      <td>AFE</td>\n",
       "      <td>Access to clean fuels and technologies for coo...</td>\n",
       "      <td>EG.CFT.ACCS.ZS</td>\n",
       "      <td>Environment: Energy production &amp; use</td>\n",
       "      <td>nan</td>\n",
       "      <td>nan</td>\n",
       "      <td>nan</td>\n",
       "      <td>nan</td>\n",
       "      <td>nan</td>\n",
       "      <td>...</td>\n",
       "      <td>15.98</td>\n",
       "      <td>16.32</td>\n",
       "      <td>16.64</td>\n",
       "      <td>16.99</td>\n",
       "      <td>17.31</td>\n",
       "      <td>17.60</td>\n",
       "      <td>nan</td>\n",
       "      <td>nan</td>\n",
       "      <td>nan</td>\n",
       "      <td>nan</td>\n",
       "    </tr>\n",
       "    <tr>\n",
       "      <td>1</td>\n",
       "      <td>Africa Eastern and Southern</td>\n",
       "      <td>AFE</td>\n",
       "      <td>Access to electricity (% of population)</td>\n",
       "      <td>EG.ELC.ACCS.ZS</td>\n",
       "      <td>Environment: Energy production &amp; use</td>\n",
       "      <td>nan</td>\n",
       "      <td>nan</td>\n",
       "      <td>nan</td>\n",
       "      <td>nan</td>\n",
       "      <td>nan</td>\n",
       "      <td>...</td>\n",
       "      <td>28.38</td>\n",
       "      <td>32.22</td>\n",
       "      <td>32.05</td>\n",
       "      <td>31.32</td>\n",
       "      <td>33.31</td>\n",
       "      <td>38.38</td>\n",
       "      <td>39.75</td>\n",
       "      <td>42.17</td>\n",
       "      <td>43.64</td>\n",
       "      <td>nan</td>\n",
       "    </tr>\n",
       "    <tr>\n",
       "      <td>2</td>\n",
       "      <td>Africa Eastern and Southern</td>\n",
       "      <td>AFE</td>\n",
       "      <td>Access to electricity, rural (% of rural popul...</td>\n",
       "      <td>EG.ELC.ACCS.RU.ZS</td>\n",
       "      <td>Environment: Energy production &amp; use</td>\n",
       "      <td>nan</td>\n",
       "      <td>nan</td>\n",
       "      <td>nan</td>\n",
       "      <td>nan</td>\n",
       "      <td>nan</td>\n",
       "      <td>...</td>\n",
       "      <td>15.30</td>\n",
       "      <td>20.53</td>\n",
       "      <td>19.46</td>\n",
       "      <td>17.79</td>\n",
       "      <td>16.55</td>\n",
       "      <td>23.91</td>\n",
       "      <td>24.62</td>\n",
       "      <td>26.81</td>\n",
       "      <td>28.84</td>\n",
       "      <td>nan</td>\n",
       "    </tr>\n",
       "    <tr>\n",
       "      <td>3</td>\n",
       "      <td>Africa Eastern and Southern</td>\n",
       "      <td>AFE</td>\n",
       "      <td>Access to electricity, urban (% of urban popul...</td>\n",
       "      <td>EG.ELC.ACCS.UR.ZS</td>\n",
       "      <td>Environment: Energy production &amp; use</td>\n",
       "      <td>nan</td>\n",
       "      <td>nan</td>\n",
       "      <td>nan</td>\n",
       "      <td>nan</td>\n",
       "      <td>nan</td>\n",
       "      <td>...</td>\n",
       "      <td>65.47</td>\n",
       "      <td>66.30</td>\n",
       "      <td>66.50</td>\n",
       "      <td>65.83</td>\n",
       "      <td>66.93</td>\n",
       "      <td>68.72</td>\n",
       "      <td>71.09</td>\n",
       "      <td>71.99</td>\n",
       "      <td>73.59</td>\n",
       "      <td>nan</td>\n",
       "    </tr>\n",
       "    <tr>\n",
       "      <td>4</td>\n",
       "      <td>Africa Eastern and Southern</td>\n",
       "      <td>AFE</td>\n",
       "      <td>Account ownership at a financial institution o...</td>\n",
       "      <td>FX.OWN.TOTL.ZS</td>\n",
       "      <td>Financial Sector: Access</td>\n",
       "      <td>nan</td>\n",
       "      <td>nan</td>\n",
       "      <td>nan</td>\n",
       "      <td>nan</td>\n",
       "      <td>nan</td>\n",
       "      <td>...</td>\n",
       "      <td>nan</td>\n",
       "      <td>nan</td>\n",
       "      <td>nan</td>\n",
       "      <td>nan</td>\n",
       "      <td>nan</td>\n",
       "      <td>nan</td>\n",
       "      <td>nan</td>\n",
       "      <td>nan</td>\n",
       "      <td>nan</td>\n",
       "      <td>nan</td>\n",
       "    </tr>\n",
       "  </tbody>\n",
       "</table>\n",
       "<p>5 rows × 66 columns</p>\n",
       "</div>"
      ],
      "text/plain": [
       "                  Country Name Country Code  \\\n",
       "0  Africa Eastern and Southern          AFE   \n",
       "1  Africa Eastern and Southern          AFE   \n",
       "2  Africa Eastern and Southern          AFE   \n",
       "3  Africa Eastern and Southern          AFE   \n",
       "4  Africa Eastern and Southern          AFE   \n",
       "\n",
       "                                      Indicator Name     Indicator Code  \\\n",
       "0  Access to clean fuels and technologies for coo...     EG.CFT.ACCS.ZS   \n",
       "1            Access to electricity (% of population)     EG.ELC.ACCS.ZS   \n",
       "2  Access to electricity, rural (% of rural popul...  EG.ELC.ACCS.RU.ZS   \n",
       "3  Access to electricity, urban (% of urban popul...  EG.ELC.ACCS.UR.ZS   \n",
       "4  Account ownership at a financial institution o...     FX.OWN.TOTL.ZS   \n",
       "\n",
       "                                  Topic  1960  1961  1962  1963  1964  ...  \\\n",
       "0  Environment: Energy production & use   nan   nan   nan   nan   nan  ...   \n",
       "1  Environment: Energy production & use   nan   nan   nan   nan   nan  ...   \n",
       "2  Environment: Energy production & use   nan   nan   nan   nan   nan  ...   \n",
       "3  Environment: Energy production & use   nan   nan   nan   nan   nan  ...   \n",
       "4              Financial Sector: Access   nan   nan   nan   nan   nan  ...   \n",
       "\n",
       "   2011  2012  2013  2014  2015  2016  2017  2018  2019  2020  \n",
       "0 15.98 16.32 16.64 16.99 17.31 17.60   nan   nan   nan   nan  \n",
       "1 28.38 32.22 32.05 31.32 33.31 38.38 39.75 42.17 43.64   nan  \n",
       "2 15.30 20.53 19.46 17.79 16.55 23.91 24.62 26.81 28.84   nan  \n",
       "3 65.47 66.30 66.50 65.83 66.93 68.72 71.09 71.99 73.59   nan  \n",
       "4   nan   nan   nan   nan   nan   nan   nan   nan   nan   nan  \n",
       "\n",
       "[5 rows x 66 columns]"
      ]
     },
     "execution_count": 139,
     "metadata": {},
     "output_type": "execute_result"
    }
   ],
   "source": [
    "#reading the datasets\n",
    "df_wdi = pd.read_csv('WDI_Data.csv')\n",
    "df_wdi.head()"
   ]
  },
  {
   "cell_type": "code",
   "execution_count": 140,
   "metadata": {},
   "outputs": [
    {
     "data": {
      "text/html": [
       "<div>\n",
       "<style scoped>\n",
       "    .dataframe tbody tr th:only-of-type {\n",
       "        vertical-align: middle;\n",
       "    }\n",
       "\n",
       "    .dataframe tbody tr th {\n",
       "        vertical-align: top;\n",
       "    }\n",
       "\n",
       "    .dataframe thead th {\n",
       "        text-align: right;\n",
       "    }\n",
       "</style>\n",
       "<table border=\"1\" class=\"dataframe\">\n",
       "  <thead>\n",
       "    <tr style=\"text-align: right;\">\n",
       "      <th></th>\n",
       "      <th>HPI rank</th>\n",
       "      <th>Country</th>\n",
       "      <th>ISO</th>\n",
       "      <th>Unnamed: 3</th>\n",
       "      <th>Continent</th>\n",
       "      <th>Population (thousands)</th>\n",
       "      <th>Life Expectancy (years)</th>\n",
       "      <th>Ladder of life (Wellbeing) (0-10)</th>\n",
       "      <th>Ecological Footprint (g ha)</th>\n",
       "      <th>HPI</th>\n",
       "      <th>Biocapacity for year \\n(g ha)</th>\n",
       "      <th>GDP per capita ($)</th>\n",
       "      <th>year</th>\n",
       "    </tr>\n",
       "  </thead>\n",
       "  <tbody>\n",
       "    <tr>\n",
       "      <td>0</td>\n",
       "      <td>1.00</td>\n",
       "      <td>Costa Rica</td>\n",
       "      <td>CRI</td>\n",
       "      <td>2018CRI</td>\n",
       "      <td>1</td>\n",
       "      <td>4999.40</td>\n",
       "      <td>80.10</td>\n",
       "      <td>7.14</td>\n",
       "      <td>2.60</td>\n",
       "      <td>63.30</td>\n",
       "      <td>1.57</td>\n",
       "      <td>20074</td>\n",
       "      <td>2018</td>\n",
       "    </tr>\n",
       "    <tr>\n",
       "      <td>1</td>\n",
       "      <td>4.00</td>\n",
       "      <td>Vanuatu</td>\n",
       "      <td>VUT</td>\n",
       "      <td>2018VUT</td>\n",
       "      <td>8</td>\n",
       "      <td>292.70</td>\n",
       "      <td>70.30</td>\n",
       "      <td>6.87</td>\n",
       "      <td>1.62</td>\n",
       "      <td>59.60</td>\n",
       "      <td>1.57</td>\n",
       "      <td>3128</td>\n",
       "      <td>2018</td>\n",
       "    </tr>\n",
       "    <tr>\n",
       "      <td>2</td>\n",
       "      <td>8.00</td>\n",
       "      <td>Colombia</td>\n",
       "      <td>COL</td>\n",
       "      <td>2018COL</td>\n",
       "      <td>1</td>\n",
       "      <td>49661.10</td>\n",
       "      <td>77.10</td>\n",
       "      <td>5.98</td>\n",
       "      <td>1.89</td>\n",
       "      <td>57.50</td>\n",
       "      <td>1.57</td>\n",
       "      <td>14357</td>\n",
       "      <td>2018</td>\n",
       "    </tr>\n",
       "    <tr>\n",
       "      <td>3</td>\n",
       "      <td>6.00</td>\n",
       "      <td>Switzerland</td>\n",
       "      <td>CHE</td>\n",
       "      <td>2018CHE</td>\n",
       "      <td>3</td>\n",
       "      <td>8525.60</td>\n",
       "      <td>83.60</td>\n",
       "      <td>7.51</td>\n",
       "      <td>4.29</td>\n",
       "      <td>58.10</td>\n",
       "      <td>1.57</td>\n",
       "      <td>68246</td>\n",
       "      <td>2018</td>\n",
       "    </tr>\n",
       "    <tr>\n",
       "      <td>4</td>\n",
       "      <td>2.00</td>\n",
       "      <td>Ecuador</td>\n",
       "      <td>ECU</td>\n",
       "      <td>2018ECU</td>\n",
       "      <td>1</td>\n",
       "      <td>17084.40</td>\n",
       "      <td>76.80</td>\n",
       "      <td>6.13</td>\n",
       "      <td>1.63</td>\n",
       "      <td>60.20</td>\n",
       "      <td>1.57</td>\n",
       "      <td>11562</td>\n",
       "      <td>2018</td>\n",
       "    </tr>\n",
       "  </tbody>\n",
       "</table>\n",
       "</div>"
      ],
      "text/plain": [
       "   HPI rank      Country  ISO Unnamed: 3  Continent  Population (thousands)  \\\n",
       "0      1.00   Costa Rica  CRI    2018CRI          1                 4999.40   \n",
       "1      4.00      Vanuatu  VUT    2018VUT          8                  292.70   \n",
       "2      8.00     Colombia  COL    2018COL          1                49661.10   \n",
       "3      6.00  Switzerland  CHE    2018CHE          3                 8525.60   \n",
       "4      2.00      Ecuador  ECU    2018ECU          1                17084.40   \n",
       "\n",
       "   Life Expectancy (years)  Ladder of life (Wellbeing) (0-10)  \\\n",
       "0                    80.10                               7.14   \n",
       "1                    70.30                               6.87   \n",
       "2                    77.10                               5.98   \n",
       "3                    83.60                               7.51   \n",
       "4                    76.80                               6.13   \n",
       "\n",
       "   Ecological Footprint (g ha)   HPI  Biocapacity for year \\n(g ha)  \\\n",
       "0                         2.60 63.30                           1.57   \n",
       "1                         1.62 59.60                           1.57   \n",
       "2                         1.89 57.50                           1.57   \n",
       "3                         4.29 58.10                           1.57   \n",
       "4                         1.63 60.20                           1.57   \n",
       "\n",
       "  GDP per capita ($)  year  \n",
       "0              20074  2018  \n",
       "1               3128  2018  \n",
       "2              14357  2018  \n",
       "3              68246  2018  \n",
       "4              11562  2018  "
      ]
     },
     "execution_count": 140,
     "metadata": {},
     "output_type": "execute_result"
    }
   ],
   "source": [
    "df_hpi = pd.read_csv('HPI_Data.csv')\n",
    "df_hpi.head()"
   ]
  },
  {
   "cell_type": "markdown",
   "metadata": {},
   "source": [
    "## Data Exploration & Preparation"
   ]
  },
  {
   "cell_type": "markdown",
   "metadata": {},
   "source": [
    "### 1. df_wdi"
   ]
  },
  {
   "cell_type": "code",
   "execution_count": 141,
   "metadata": {},
   "outputs": [
    {
     "data": {
      "text/plain": [
       "(383838, 66)"
      ]
     },
     "execution_count": 141,
     "metadata": {},
     "output_type": "execute_result"
    }
   ],
   "source": [
    "df_wdi.shape"
   ]
  },
  {
   "cell_type": "code",
   "execution_count": 142,
   "metadata": {},
   "outputs": [
    {
     "name": "stdout",
     "output_type": "stream",
     "text": [
      "<class 'pandas.core.frame.DataFrame'>\n",
      "RangeIndex: 383838 entries, 0 to 383837\n",
      "Data columns (total 66 columns):\n",
      "Country Name      383838 non-null object\n",
      "Country Code      383838 non-null object\n",
      "Indicator Name    383838 non-null object\n",
      "Indicator Code    383838 non-null object\n",
      "Topic             383838 non-null object\n",
      "1960              37538 non-null float64\n",
      "1961              42455 non-null float64\n",
      "1962              44706 non-null float64\n",
      "1963              44549 non-null float64\n",
      "1964              45102 non-null float64\n",
      "1965              47301 non-null float64\n",
      "1966              47348 non-null float64\n",
      "1967              49077 non-null float64\n",
      "1968              48654 non-null float64\n",
      "1969              50488 non-null float64\n",
      "1970              69215 non-null float64\n",
      "1971              76229 non-null float64\n",
      "1972              79351 non-null float64\n",
      "1973              78843 non-null float64\n",
      "1974              80339 non-null float64\n",
      "1975              84051 non-null float64\n",
      "1976              86365 non-null float64\n",
      "1977              90369 non-null float64\n",
      "1978              89961 non-null float64\n",
      "1979              90830 non-null float64\n",
      "1980              95762 non-null float64\n",
      "1981              98079 non-null float64\n",
      "1982              99841 non-null float64\n",
      "1983              99368 non-null float64\n",
      "1984              100101 non-null float64\n",
      "1985              101470 non-null float64\n",
      "1986              102267 non-null float64\n",
      "1987              103920 non-null float64\n",
      "1988              102408 non-null float64\n",
      "1989              104301 non-null float64\n",
      "1990              127169 non-null float64\n",
      "1991              134560 non-null float64\n",
      "1992              139654 non-null float64\n",
      "1993              140133 non-null float64\n",
      "1994              142441 non-null float64\n",
      "1995              150165 non-null float64\n",
      "1996              149994 non-null float64\n",
      "1997              152343 non-null float64\n",
      "1998              153569 non-null float64\n",
      "1999              159057 non-null float64\n",
      "2000              184615 non-null float64\n",
      "2001              179006 non-null float64\n",
      "2002              184477 non-null float64\n",
      "2003              184162 non-null float64\n",
      "2004              189668 non-null float64\n",
      "2005              200570 non-null float64\n",
      "2006              201244 non-null float64\n",
      "2007              206435 non-null float64\n",
      "2008              204140 non-null float64\n",
      "2009              205310 non-null float64\n",
      "2010              218929 non-null float64\n",
      "2011              211745 non-null float64\n",
      "2012              216448 non-null float64\n",
      "2013              210762 non-null float64\n",
      "2014              218029 non-null float64\n",
      "2015              213427 non-null float64\n",
      "2016              212934 non-null float64\n",
      "2017              209435 non-null float64\n",
      "2018              203077 non-null float64\n",
      "2019              174063 non-null float64\n",
      "2020              85192 non-null float64\n",
      "dtypes: float64(61), object(5)\n",
      "memory usage: 193.3+ MB\n"
     ]
    }
   ],
   "source": [
    "df_wdi.info()"
   ]
  },
  {
   "cell_type": "code",
   "execution_count": 143,
   "metadata": {},
   "outputs": [
    {
     "name": "stdout",
     "output_type": "stream",
     "text": [
      "less than 50% are missing columns:\n"
     ]
    },
    {
     "data": {
      "text/plain": [
       "{'2005',\n",
       " '2006',\n",
       " '2007',\n",
       " '2008',\n",
       " '2009',\n",
       " '2010',\n",
       " '2011',\n",
       " '2012',\n",
       " '2013',\n",
       " '2014',\n",
       " '2015',\n",
       " '2016',\n",
       " '2017',\n",
       " '2018',\n",
       " 'Country Code',\n",
       " 'Country Name',\n",
       " 'Indicator Code',\n",
       " 'Indicator Name',\n",
       " 'Topic'}"
      ]
     },
     "execution_count": 143,
     "metadata": {},
     "output_type": "execute_result"
    }
   ],
   "source": [
    "# Show columns with less missing data\n",
    "columns_less_nulls = set(df_wdi.columns[df_wdi.isnull().mean() < 0.5])\n",
    "print('less than 50% are missing columns:')\n",
    "columns_less_nulls"
   ]
  },
  {
   "cell_type": "markdown",
   "metadata": {},
   "source": [
    "#### so we will be focusing on 2018 "
   ]
  },
  {
   "cell_type": "code",
   "execution_count": 144,
   "metadata": {},
   "outputs": [],
   "source": [
    "# Create sub-DataFrame of WDI data for 2018, 2019, 2020 \n",
    "df_wdi= df_wdi[['Country Name', 'Country Code','Topic', 'Indicator Name', 'Indicator Code'\n",
    "            , '2018', '2019', '2020']]"
   ]
  },
  {
   "cell_type": "code",
   "execution_count": 145,
   "metadata": {},
   "outputs": [
    {
     "data": {
      "text/plain": [
       "Index(['Country Name', 'Country Code', 'Topic', 'Indicator Name',\n",
       "       'Indicator Code', '2018', '2019', '2020'],\n",
       "      dtype='object')"
      ]
     },
     "execution_count": 145,
     "metadata": {},
     "output_type": "execute_result"
    }
   ],
   "source": [
    "df_wdi.columns"
   ]
  },
  {
   "cell_type": "code",
   "execution_count": 146,
   "metadata": {},
   "outputs": [
    {
     "data": {
      "text/plain": [
       "Country Name           0\n",
       "Country Code           0\n",
       "Topic                  0\n",
       "Indicator Name         0\n",
       "Indicator Code         0\n",
       "2018              180761\n",
       "2019              209775\n",
       "2020              298646\n",
       "dtype: int64"
      ]
     },
     "execution_count": 146,
     "metadata": {},
     "output_type": "execute_result"
    }
   ],
   "source": [
    "#check for the null values\n",
    "df_wdi.isna().sum()"
   ]
  },
  {
   "cell_type": "code",
   "execution_count": 147,
   "metadata": {},
   "outputs": [
    {
     "data": {
      "text/plain": [
       "['Environment: Energy production & use',\n",
       " 'Financial Sector: Access',\n",
       " 'Social Protection & Labor: Performance',\n",
       " 'Education: Participation',\n",
       " 'Economic Policy & Debt: National accounts: Adjusted savings & income',\n",
       " 'Health: Reproductive health',\n",
       " 'Health: Risk factors',\n",
       " 'Health: Population: Dynamics',\n",
       " 'Environment: Land use',\n",
       " 'Environment: Agricultural production',\n",
       " 'Environment: Emissions',\n",
       " 'Private Sector & Trade: Exports',\n",
       " 'Private Sector & Trade: Imports',\n",
       " 'Economic Policy & Debt: National accounts: Shares of GDP & other',\n",
       " 'Economic Policy & Debt: National accounts: Growth rates',\n",
       " 'Economic Policy & Debt: National accounts: US$ at constant 2015 prices: Value added',\n",
       " 'Economic Policy & Debt: National accounts: Local currency at constant prices: Value added',\n",
       " 'Economic Policy & Debt: National accounts: Local currency at current prices: Value added',\n",
       " 'Economic Policy & Debt: National accounts: US$ at current prices: Value added',\n",
       " 'Infrastructure: Transportation',\n",
       " 'Environment: Freshwater',\n",
       " 'Poverty: Shared prosperity',\n",
       " 'Health: Disease prevention',\n",
       " 'Public Sector: Defense & arms trade',\n",
       " 'Private Sector & Trade: Business environment',\n",
       " 'Social Protection & Labor: Economic activity',\n",
       " 'Financial Sector: Assets',\n",
       " 'Public Sector: Conflict & fragility',\n",
       " 'Private Sector & Trade: Tariffs',\n",
       " 'Environment: Biodiversity & protected areas',\n",
       " 'Financial Sector: Monetary holdings (liabilities)',\n",
       " 'Public Sector: Government finance: Deficit & financing',\n",
       " 'Economic Policy & Debt: National accounts: Local currency at constant prices: Expenditure on GDP',\n",
       " 'Economic Policy & Debt: National accounts: Local currency at current prices: Expenditure on GDP',\n",
       " 'Economic Policy & Debt: National accounts: US$ at current prices: Expenditure on GDP',\n",
       " 'Economic Policy & Debt: Balance of payments: Current account: Goods, services & income',\n",
       " 'Environment: Natural resources contribution to GDP',\n",
       " 'Economic Policy & Debt: External debt: Net flows',\n",
       " 'Health: Health systems',\n",
       " 'Public Sector: Government finance: Expense',\n",
       " 'Education: Outcomes',\n",
       " 'Financial Sector: Exchange rates & prices',\n",
       " 'Health: Nutrition',\n",
       " 'Private Sector & Trade: Trade facilitation',\n",
       " 'Public Sector: Policy & institutions',\n",
       " 'Economic Policy & Debt: Balance of payments: Current account: Balances',\n",
       " 'Education: Inputs',\n",
       " 'Public Sector: Government finance: Revenue',\n",
       " 'World Bank, International Debt Statistics.',\n",
       " 'Economic Policy & Debt: External debt: Debt service',\n",
       " 'Financial Sector: Interest rates',\n",
       " 'Private Sector & Trade: Trade price indices',\n",
       " 'Private Sector & Trade: Trade indexes',\n",
       " 'Economic Policy & Debt: National accounts: Local currency at constant prices: Other items',\n",
       " 'Economic Policy & Debt: National accounts: US$ at constant 2015 prices: Expenditure on GDP',\n",
       " 'Economic Policy & Debt: External debt: Debt ratios & other items',\n",
       " 'Economic Policy & Debt: External debt: Debt outstanding',\n",
       " 'Infrastructure: Communications',\n",
       " 'Economic Policy & Debt: Balance of payments: Capital & financial account',\n",
       " 'Economic Policy & Debt: National accounts: US$ at constant 2015 prices: Aggregate indicators',\n",
       " 'Economic Policy & Debt: National accounts: Local currency at constant prices: Aggregate indicators',\n",
       " 'Economic Policy & Debt: National accounts: Local currency at current prices: Aggregate indicators',\n",
       " 'Economic Policy & Debt: National accounts: US$ at current prices: Aggregate indicators',\n",
       " 'Economic Policy & Debt: Purchasing power parity',\n",
       " 'Poverty: Income distribution',\n",
       " 'Economic Policy & Debt: National accounts: Atlas GNI & GNI per capita',\n",
       " 'Economic Policy & Debt: Balance of payments: Reserves & other items',\n",
       " 'Education: Efficiency',\n",
       " 'Infrastructure: Technology',\n",
       " 'Health: Universal Health Coverage',\n",
       " 'Social Protection & Labor: Migration',\n",
       " 'Private Sector & Trade: Travel & tourism',\n",
       " 'Private Sector & Trade: Private infrastructure investment',\n",
       " 'Social Protection & Labor: Labor force structure',\n",
       " 'Health: Mortality',\n",
       " 'Financial Sector: Capital markets',\n",
       " 'Private Sector & Trade: Total merchandise trade',\n",
       " 'Poverty: Multidimensional poverty',\n",
       " 'Economic Policy & Debt: Official development assistance',\n",
       " 'Economic Policy & Debt: Balance of payments: Current account: Transfers',\n",
       " 'Health: Population: Structure',\n",
       " 'Environment: Density & urbanization',\n",
       " 'Poverty: Poverty rates',\n",
       " 'Health',\n",
       " 'Public Sector: Government finance',\n",
       " 'Gender: Public life & decision making',\n",
       " 'Gender: Participation & access',\n",
       " 'Gender: Health',\n",
       " 'Social Protection & Labor: Unemployment',\n",
       " 'Gender: Agency']"
      ]
     },
     "execution_count": 147,
     "metadata": {},
     "output_type": "execute_result"
    }
   ],
   "source": [
    "#Explore the Topics to choose questions to answer\n",
    "topic_list = df_wdi['Topic'].unique().tolist()\n",
    "topic_list"
   ]
  },
  {
   "cell_type": "code",
   "execution_count": 148,
   "metadata": {},
   "outputs": [
    {
     "data": {
      "text/plain": [
       "90"
      ]
     },
     "execution_count": 148,
     "metadata": {},
     "output_type": "execute_result"
    }
   ],
   "source": [
    "#the number of topics in the dataset\n",
    "df_wdi['Topic'].nunique()"
   ]
  },
  {
   "cell_type": "code",
   "execution_count": 149,
   "metadata": {},
   "outputs": [
    {
     "data": {
      "text/plain": [
       "Country Name       object\n",
       "Country Code       object\n",
       "Topic              object\n",
       "Indicator Name     object\n",
       "Indicator Code     object\n",
       "2018              float64\n",
       "2019              float64\n",
       "2020              float64\n",
       "dtype: object"
      ]
     },
     "execution_count": 149,
     "metadata": {},
     "output_type": "execute_result"
    }
   ],
   "source": [
    "df_wdi.dtypes"
   ]
  },
  {
   "cell_type": "code",
   "execution_count": 150,
   "metadata": {},
   "outputs": [
    {
     "data": {
      "text/plain": [
       "['Africa Eastern and Southern',\n",
       " 'Africa Western and Central',\n",
       " 'Arab World',\n",
       " 'Caribbean small states',\n",
       " 'Central Europe and the Baltics',\n",
       " 'Early-demographic dividend',\n",
       " 'East Asia & Pacific',\n",
       " 'East Asia & Pacific (excluding high income)',\n",
       " 'East Asia & Pacific (IDA & IBRD countries)',\n",
       " 'Euro area',\n",
       " 'Europe & Central Asia',\n",
       " 'Europe & Central Asia (excluding high income)',\n",
       " 'Europe & Central Asia (IDA & IBRD countries)',\n",
       " 'European Union',\n",
       " 'Fragile and conflict affected situations',\n",
       " 'Heavily indebted poor countries (HIPC)',\n",
       " 'High income',\n",
       " 'IBRD only',\n",
       " 'IDA & IBRD total',\n",
       " 'IDA blend',\n",
       " 'IDA only',\n",
       " 'IDA total',\n",
       " 'Late-demographic dividend',\n",
       " 'Latin America & Caribbean',\n",
       " 'Latin America & Caribbean (excluding high income)',\n",
       " 'Latin America & the Caribbean (IDA & IBRD countries)',\n",
       " 'Least developed countries: UN classification',\n",
       " 'Low & middle income',\n",
       " 'Low income',\n",
       " 'Lower middle income',\n",
       " 'Middle East & North Africa',\n",
       " 'Middle East & North Africa (excluding high income)',\n",
       " 'Middle East & North Africa (IDA & IBRD countries)',\n",
       " 'Middle income',\n",
       " 'North America',\n",
       " 'Not classified',\n",
       " 'OECD members',\n",
       " 'Other small states',\n",
       " 'Pacific island small states',\n",
       " 'Post-demographic dividend',\n",
       " 'Pre-demographic dividend',\n",
       " 'Small states',\n",
       " 'South Asia',\n",
       " 'South Asia (IDA & IBRD)',\n",
       " 'Sub-Saharan Africa',\n",
       " 'Sub-Saharan Africa (excluding high income)',\n",
       " 'Sub-Saharan Africa (IDA & IBRD countries)',\n",
       " 'Upper middle income',\n",
       " 'World',\n",
       " 'Afghanistan',\n",
       " 'Albania',\n",
       " 'Algeria',\n",
       " 'American Samoa',\n",
       " 'Andorra',\n",
       " 'Angola',\n",
       " 'Antigua and Barbuda',\n",
       " 'Argentina',\n",
       " 'Armenia',\n",
       " 'Aruba',\n",
       " 'Australia',\n",
       " 'Austria',\n",
       " 'Azerbaijan',\n",
       " 'Bahamas, The',\n",
       " 'Bahrain',\n",
       " 'Bangladesh',\n",
       " 'Barbados',\n",
       " 'Belarus',\n",
       " 'Belgium',\n",
       " 'Belize',\n",
       " 'Benin',\n",
       " 'Bermuda',\n",
       " 'Bhutan',\n",
       " 'Bolivia',\n",
       " 'Bosnia and Herzegovina',\n",
       " 'Botswana',\n",
       " 'Brazil',\n",
       " 'British Virgin Islands',\n",
       " 'Brunei Darussalam',\n",
       " 'Bulgaria',\n",
       " 'Burkina Faso',\n",
       " 'Burundi',\n",
       " 'Cabo Verde',\n",
       " 'Cambodia',\n",
       " 'Cameroon',\n",
       " 'Canada',\n",
       " 'Cayman Islands',\n",
       " 'Central African Republic',\n",
       " 'Chad',\n",
       " 'Channel Islands',\n",
       " 'Chile',\n",
       " 'China',\n",
       " 'Colombia',\n",
       " 'Comoros',\n",
       " 'Congo, Dem. Rep.',\n",
       " 'Congo, Rep.',\n",
       " 'Costa Rica',\n",
       " \"Cote d'Ivoire\",\n",
       " 'Croatia',\n",
       " 'Cuba',\n",
       " 'Curacao',\n",
       " 'Cyprus',\n",
       " 'Czech Republic',\n",
       " 'Denmark',\n",
       " 'Djibouti',\n",
       " 'Dominica',\n",
       " 'Dominican Republic',\n",
       " 'Ecuador',\n",
       " 'Egypt, Arab Rep.',\n",
       " 'El Salvador',\n",
       " 'Equatorial Guinea',\n",
       " 'Eritrea',\n",
       " 'Estonia',\n",
       " 'Eswatini',\n",
       " 'Ethiopia',\n",
       " 'Faroe Islands',\n",
       " 'Fiji',\n",
       " 'Finland',\n",
       " 'France',\n",
       " 'French Polynesia',\n",
       " 'Gabon',\n",
       " 'Gambia, The',\n",
       " 'Georgia',\n",
       " 'Germany',\n",
       " 'Ghana',\n",
       " 'Gibraltar',\n",
       " 'Greece',\n",
       " 'Greenland',\n",
       " 'Grenada',\n",
       " 'Guam',\n",
       " 'Guatemala',\n",
       " 'Guinea',\n",
       " 'Guinea-Bissau',\n",
       " 'Guyana',\n",
       " 'Haiti',\n",
       " 'Honduras',\n",
       " 'Hong Kong SAR, China',\n",
       " 'Hungary',\n",
       " 'Iceland',\n",
       " 'India',\n",
       " 'Indonesia',\n",
       " 'Iran, Islamic Rep.',\n",
       " 'Iraq',\n",
       " 'Ireland',\n",
       " 'Isle of Man',\n",
       " 'Israel',\n",
       " 'Italy',\n",
       " 'Jamaica',\n",
       " 'Japan',\n",
       " 'Jordan',\n",
       " 'Kazakhstan',\n",
       " 'Kenya',\n",
       " 'Kiribati',\n",
       " \"Korea, Dem. People's Rep.\",\n",
       " 'Korea, Rep.',\n",
       " 'Kosovo',\n",
       " 'Kuwait',\n",
       " 'Kyrgyz Republic',\n",
       " 'Lao PDR',\n",
       " 'Latvia',\n",
       " 'Lebanon',\n",
       " 'Lesotho',\n",
       " 'Liberia',\n",
       " 'Libya',\n",
       " 'Liechtenstein',\n",
       " 'Lithuania',\n",
       " 'Luxembourg',\n",
       " 'Macao SAR, China',\n",
       " 'Madagascar',\n",
       " 'Malawi',\n",
       " 'Malaysia',\n",
       " 'Maldives',\n",
       " 'Mali',\n",
       " 'Malta',\n",
       " 'Marshall Islands',\n",
       " 'Mauritania',\n",
       " 'Mauritius',\n",
       " 'Mexico',\n",
       " 'Micronesia, Fed. Sts.',\n",
       " 'Moldova',\n",
       " 'Monaco',\n",
       " 'Mongolia',\n",
       " 'Montenegro',\n",
       " 'Morocco',\n",
       " 'Mozambique',\n",
       " 'Myanmar',\n",
       " 'Namibia',\n",
       " 'Nauru',\n",
       " 'Nepal',\n",
       " 'Netherlands',\n",
       " 'New Caledonia',\n",
       " 'New Zealand',\n",
       " 'Nicaragua',\n",
       " 'Niger',\n",
       " 'Nigeria',\n",
       " 'North Macedonia',\n",
       " 'Northern Mariana Islands',\n",
       " 'Norway',\n",
       " 'Oman',\n",
       " 'Pakistan',\n",
       " 'Palau',\n",
       " 'Panama',\n",
       " 'Papua New Guinea',\n",
       " 'Paraguay',\n",
       " 'Peru',\n",
       " 'Philippines',\n",
       " 'Poland',\n",
       " 'Portugal',\n",
       " 'Puerto Rico',\n",
       " 'Qatar',\n",
       " 'Romania',\n",
       " 'Russian Federation',\n",
       " 'Rwanda',\n",
       " 'Samoa',\n",
       " 'San Marino',\n",
       " 'Sao Tome and Principe',\n",
       " 'Saudi Arabia',\n",
       " 'Senegal',\n",
       " 'Serbia',\n",
       " 'Seychelles',\n",
       " 'Sierra Leone',\n",
       " 'Singapore',\n",
       " 'Sint Maarten (Dutch part)',\n",
       " 'Slovak Republic',\n",
       " 'Slovenia',\n",
       " 'Solomon Islands',\n",
       " 'Somalia',\n",
       " 'South Africa',\n",
       " 'South Sudan',\n",
       " 'Spain',\n",
       " 'Sri Lanka',\n",
       " 'St. Kitts and Nevis',\n",
       " 'St. Lucia',\n",
       " 'St. Martin (French part)',\n",
       " 'St. Vincent and the Grenadines',\n",
       " 'Sudan',\n",
       " 'Suriname',\n",
       " 'Sweden',\n",
       " 'Switzerland',\n",
       " 'Syrian Arab Republic',\n",
       " 'Tajikistan',\n",
       " 'Tanzania',\n",
       " 'Thailand',\n",
       " 'Timor-Leste',\n",
       " 'Togo',\n",
       " 'Tonga',\n",
       " 'Trinidad and Tobago',\n",
       " 'Tunisia',\n",
       " 'Turkey',\n",
       " 'Turkmenistan',\n",
       " 'Turks and Caicos Islands',\n",
       " 'Tuvalu',\n",
       " 'Uganda',\n",
       " 'Ukraine',\n",
       " 'United Arab Emirates',\n",
       " 'United Kingdom',\n",
       " 'United States',\n",
       " 'Uruguay',\n",
       " 'Uzbekistan',\n",
       " 'Vanuatu',\n",
       " 'Venezuela, RB',\n",
       " 'Vietnam',\n",
       " 'Virgin Islands (U.S.)',\n",
       " 'West Bank and Gaza',\n",
       " 'Yemen, Rep.',\n",
       " 'Zambia',\n",
       " 'Zimbabwe']"
      ]
     },
     "execution_count": 150,
     "metadata": {},
     "output_type": "execute_result"
    }
   ],
   "source": [
    "#list of the countries in the dataset\n",
    "country_list = df_wdi['Country Name'].unique().tolist()\n",
    "country_list"
   ]
  },
  {
   "cell_type": "code",
   "execution_count": 151,
   "metadata": {},
   "outputs": [
    {
     "data": {
      "text/plain": [
       "266"
      ]
     },
     "execution_count": 151,
     "metadata": {},
     "output_type": "execute_result"
    }
   ],
   "source": [
    "#number of the countries in the dataset\n",
    "df_wdi['Country Name'].nunique()"
   ]
  },
  {
   "cell_type": "code",
   "execution_count": 152,
   "metadata": {},
   "outputs": [],
   "source": [
    "#change format to make the numbers more clear and organized \n",
    "pd.options.display.float_format = \"{:.2f}\".format"
   ]
  },
  {
   "cell_type": "code",
   "execution_count": 153,
   "metadata": {
    "scrolled": true
   },
   "outputs": [],
   "source": [
    "#fill the null values with 0s\n",
    "df_wdi = pd.DataFrame(df_wdi).fillna(0)"
   ]
  },
  {
   "cell_type": "code",
   "execution_count": 154,
   "metadata": {},
   "outputs": [],
   "source": [
    "# Create DataFrame of WDI data for 2018 since it is the closest yet has the less missing values\n",
    "# thus, we will compare it with the HPI data later\n",
    "year = '2018'\n",
    "custom_list = [[df_wdi['Topic'][row], df_wdi['Indicator Code'][row],df_wdi['Country Name'][row],df_wdi[year][row]] for row in range(len(df_wdi))]\n",
    "df_columns = ['Topic','Indicator Code', 'Country Name', year]\n",
    "custom_wdi_df = pd.DataFrame(custom_list, columns = df_columns)\n",
    "custom_wdi_df = custom_wdi_df.dropna()"
   ]
  },
  {
   "cell_type": "code",
   "execution_count": 155,
   "metadata": {},
   "outputs": [
    {
     "data": {
      "text/html": [
       "<div>\n",
       "<style scoped>\n",
       "    .dataframe tbody tr th:only-of-type {\n",
       "        vertical-align: middle;\n",
       "    }\n",
       "\n",
       "    .dataframe tbody tr th {\n",
       "        vertical-align: top;\n",
       "    }\n",
       "\n",
       "    .dataframe thead th {\n",
       "        text-align: right;\n",
       "    }\n",
       "</style>\n",
       "<table border=\"1\" class=\"dataframe\">\n",
       "  <thead>\n",
       "    <tr style=\"text-align: right;\">\n",
       "      <th></th>\n",
       "      <th>Topic</th>\n",
       "      <th>Indicator Code</th>\n",
       "      <th>Country Name</th>\n",
       "      <th>2018</th>\n",
       "    </tr>\n",
       "  </thead>\n",
       "  <tbody>\n",
       "    <tr>\n",
       "      <td>0</td>\n",
       "      <td>Environment: Energy production &amp; use</td>\n",
       "      <td>EG.CFT.ACCS.ZS</td>\n",
       "      <td>Africa Eastern and Southern</td>\n",
       "      <td>0.00</td>\n",
       "    </tr>\n",
       "    <tr>\n",
       "      <td>1</td>\n",
       "      <td>Environment: Energy production &amp; use</td>\n",
       "      <td>EG.ELC.ACCS.ZS</td>\n",
       "      <td>Africa Eastern and Southern</td>\n",
       "      <td>42.17</td>\n",
       "    </tr>\n",
       "    <tr>\n",
       "      <td>2</td>\n",
       "      <td>Environment: Energy production &amp; use</td>\n",
       "      <td>EG.ELC.ACCS.RU.ZS</td>\n",
       "      <td>Africa Eastern and Southern</td>\n",
       "      <td>26.81</td>\n",
       "    </tr>\n",
       "    <tr>\n",
       "      <td>3</td>\n",
       "      <td>Environment: Energy production &amp; use</td>\n",
       "      <td>EG.ELC.ACCS.UR.ZS</td>\n",
       "      <td>Africa Eastern and Southern</td>\n",
       "      <td>71.99</td>\n",
       "    </tr>\n",
       "    <tr>\n",
       "      <td>4</td>\n",
       "      <td>Financial Sector: Access</td>\n",
       "      <td>FX.OWN.TOTL.ZS</td>\n",
       "      <td>Africa Eastern and Southern</td>\n",
       "      <td>0.00</td>\n",
       "    </tr>\n",
       "  </tbody>\n",
       "</table>\n",
       "</div>"
      ],
      "text/plain": [
       "                                  Topic     Indicator Code  \\\n",
       "0  Environment: Energy production & use     EG.CFT.ACCS.ZS   \n",
       "1  Environment: Energy production & use     EG.ELC.ACCS.ZS   \n",
       "2  Environment: Energy production & use  EG.ELC.ACCS.RU.ZS   \n",
       "3  Environment: Energy production & use  EG.ELC.ACCS.UR.ZS   \n",
       "4              Financial Sector: Access     FX.OWN.TOTL.ZS   \n",
       "\n",
       "                  Country Name  2018  \n",
       "0  Africa Eastern and Southern  0.00  \n",
       "1  Africa Eastern and Southern 42.17  \n",
       "2  Africa Eastern and Southern 26.81  \n",
       "3  Africa Eastern and Southern 71.99  \n",
       "4  Africa Eastern and Southern  0.00  "
      ]
     },
     "execution_count": 155,
     "metadata": {},
     "output_type": "execute_result"
    }
   ],
   "source": [
    "custom_wdi_df.head()"
   ]
  },
  {
   "cell_type": "code",
   "execution_count": 156,
   "metadata": {},
   "outputs": [
    {
     "name": "stdout",
     "output_type": "stream",
     "text": [
      "\n",
      "Shape: (383838, 4)\n"
     ]
    }
   ],
   "source": [
    "print('\\nShape:',custom_wdi_df.shape)"
   ]
  },
  {
   "cell_type": "markdown",
   "metadata": {},
   "source": [
    "#### 2. HPI dataset"
   ]
  },
  {
   "cell_type": "code",
   "execution_count": 157,
   "metadata": {},
   "outputs": [
    {
     "data": {
      "text/plain": [
       "Index(['HPI rank', 'Country', 'ISO', 'Unnamed: 3', 'Continent',\n",
       "       'Population (thousands)', 'Life Expectancy (years)',\n",
       "       'Ladder of life (Wellbeing) (0-10)', 'Ecological Footprint (g ha)',\n",
       "       'HPI', 'Biocapacity for year \\n(g ha)', 'GDP per capita ($)', 'year'],\n",
       "      dtype='object')"
      ]
     },
     "execution_count": 157,
     "metadata": {},
     "output_type": "execute_result"
    }
   ],
   "source": [
    "df_hpi.columns"
   ]
  },
  {
   "cell_type": "code",
   "execution_count": 158,
   "metadata": {},
   "outputs": [
    {
     "data": {
      "text/plain": [
       "(456, 13)"
      ]
     },
     "execution_count": 158,
     "metadata": {},
     "output_type": "execute_result"
    }
   ],
   "source": [
    "df_hpi.shape"
   ]
  },
  {
   "cell_type": "code",
   "execution_count": 159,
   "metadata": {},
   "outputs": [
    {
     "name": "stdout",
     "output_type": "stream",
     "text": [
      "<class 'pandas.core.frame.DataFrame'>\n",
      "RangeIndex: 456 entries, 0 to 455\n",
      "Data columns (total 13 columns):\n",
      "HPI rank                             386 non-null float64\n",
      "Country                              456 non-null object\n",
      "ISO                                  456 non-null object\n",
      "Unnamed: 3                           456 non-null object\n",
      "Continent                            456 non-null int64\n",
      "Population (thousands)               456 non-null float64\n",
      "Life Expectancy (years)              446 non-null float64\n",
      "Ladder of life (Wellbeing) (0-10)    393 non-null float64\n",
      "Ecological Footprint (g ha)          413 non-null float64\n",
      "HPI                                  386 non-null float64\n",
      "Biocapacity for year \n",
      "(g ha)         456 non-null float64\n",
      "GDP per capita ($)                   453 non-null object\n",
      "year                                 456 non-null int64\n",
      "dtypes: float64(7), int64(2), object(4)\n",
      "memory usage: 46.4+ KB\n"
     ]
    }
   ],
   "source": [
    "df_hpi.info()"
   ]
  },
  {
   "cell_type": "code",
   "execution_count": 160,
   "metadata": {},
   "outputs": [
    {
     "data": {
      "text/plain": [
       "HPI rank                             70\n",
       "Country                               0\n",
       "ISO                                   0\n",
       "Unnamed: 3                            0\n",
       "Continent                             0\n",
       "Population (thousands)                0\n",
       "Life Expectancy (years)              10\n",
       "Ladder of life (Wellbeing) (0-10)    63\n",
       "Ecological Footprint (g ha)          43\n",
       "HPI                                  70\n",
       "Biocapacity for year \\n(g ha)         0\n",
       "GDP per capita ($)                    3\n",
       "year                                  0\n",
       "dtype: int64"
      ]
     },
     "execution_count": 160,
     "metadata": {},
     "output_type": "execute_result"
    }
   ],
   "source": [
    "#check the null values in the dataset\n",
    "df_hpi.isna().sum()"
   ]
  },
  {
   "cell_type": "code",
   "execution_count": 161,
   "metadata": {},
   "outputs": [
    {
     "data": {
      "text/plain": [
       "array([2018, 2019, 2020], dtype=int64)"
      ]
     },
     "execution_count": 161,
     "metadata": {},
     "output_type": "execute_result"
    }
   ],
   "source": [
    "#check the unique years in the dataset\n",
    "df_hpi['year'].unique()"
   ]
  },
  {
   "cell_type": "code",
   "execution_count": 162,
   "metadata": {},
   "outputs": [
    {
     "data": {
      "text/plain": [
       "array(['Costa Rica', 'Vanuatu', 'Colombia', 'Switzerland', 'Ecuador',\n",
       "       'Panama', 'Jamaica', 'Guatemala', 'Honduras', 'Uruguay',\n",
       "       'New Zealand', 'Philippines', 'El Salvador', 'United Kingdom',\n",
       "       'Peru', 'Nicaragua', 'Tajikistan', 'Netherlands',\n",
       "       'Dominican Republic', 'Armenia', 'Brazil', 'Bangladesh', 'Mexico',\n",
       "       'Uzbekistan', 'Kyrgyzstan', 'Serbia', 'Nepal', 'Thailand',\n",
       "       'Germany', 'Spain', 'France', 'Mauritius', 'Finland', 'Senegal',\n",
       "       'Ireland', 'Albania', 'Moldova', 'Norway', 'Morocco', 'Italy',\n",
       "       'Sweden', 'Palestine, State of', 'Argentina', 'Indonesia',\n",
       "       'Cyprus', 'Venezuela', 'Greece', 'Vietnam', 'Israel', 'Azerbaijan',\n",
       "       'Cambodia', 'Iceland', 'Slovenia', 'Bosnia and Herzegovina',\n",
       "       'Paraguay', 'Congo (Brazzaville)', 'Japan', 'Czech Republic',\n",
       "       'Austria', 'Sri Lanka', 'Slovakia', 'Algeria', 'Portugal',\n",
       "       'Romania', 'Croatia', 'Liberia', 'Chile', 'Singapore', 'Hungary',\n",
       "       'Denmark', 'Iraq', 'Kenya', 'Pakistan', 'Poland', 'Bolivia',\n",
       "       'Uganda', 'Yemen', 'Georgia', 'Mozambique', 'Madagascar',\n",
       "       'Tunisia', 'North Macedonia', 'Jordan', 'Iran', 'Malta', 'Egypt',\n",
       "       'Taiwan', 'Australia', 'Belarus', 'Laos', 'Libya', 'Belgium',\n",
       "       'Comoros', 'China', 'Malaysia', 'Ethiopia', 'Saudi Arabia',\n",
       "       'Burkina Faso', 'Benin', 'Niger', 'Montenegro', 'Turkey',\n",
       "       'Ukraine', 'Congo (Kinshasa)', 'Canada', 'Bulgaria', 'Myanmar',\n",
       "       'Cameroon', 'Gabon', 'South Korea', \"Cote d'Ivoire\", 'Sudan',\n",
       "       'Ghana', 'Mali', 'Rwanda', 'Lebanon', 'Malawi', 'Kazakhstan',\n",
       "       'Haiti', 'Guinea', 'Burundi', 'United States of America', 'Togo',\n",
       "       'Tanzania', 'Lithuania', 'Namibia', 'Bhutan', 'India',\n",
       "       'South Africa', 'Eswatini', 'Russia', 'Mauritania', 'Estonia',\n",
       "       'Zambia', 'United Arab Emirates', 'Latvia', 'Nigeria', 'Hong Kong',\n",
       "       'Bahrain', 'Kuwait', 'Turkmenistan', 'Botswana', 'Luxembourg',\n",
       "       'Trinidad and Tobago', 'Chad', 'Afghanistan', 'Sierra Leone',\n",
       "       'Zimbabwe', 'Lesotho', 'Central African Republic', 'Mongolia',\n",
       "       'Qatar'], dtype=object)"
      ]
     },
     "execution_count": 162,
     "metadata": {},
     "output_type": "execute_result"
    }
   ],
   "source": [
    "#check the unique countries in the dataset\n",
    "df_hpi['Country'].unique()"
   ]
  },
  {
   "cell_type": "code",
   "execution_count": 163,
   "metadata": {},
   "outputs": [
    {
     "data": {
      "text/html": [
       "<div>\n",
       "<style scoped>\n",
       "    .dataframe tbody tr th:only-of-type {\n",
       "        vertical-align: middle;\n",
       "    }\n",
       "\n",
       "    .dataframe tbody tr th {\n",
       "        vertical-align: top;\n",
       "    }\n",
       "\n",
       "    .dataframe thead th {\n",
       "        text-align: right;\n",
       "    }\n",
       "</style>\n",
       "<table border=\"1\" class=\"dataframe\">\n",
       "  <thead>\n",
       "    <tr style=\"text-align: right;\">\n",
       "      <th></th>\n",
       "      <th>HPI rank</th>\n",
       "      <th>Country</th>\n",
       "      <th>ISO</th>\n",
       "      <th>Unnamed: 3</th>\n",
       "      <th>Continent</th>\n",
       "      <th>Population (thousands)</th>\n",
       "      <th>Life Expectancy (years)</th>\n",
       "      <th>Ladder of life (Wellbeing) (0-10)</th>\n",
       "      <th>Ecological Footprint (g ha)</th>\n",
       "      <th>HPI</th>\n",
       "      <th>Biocapacity for year \\n(g ha)</th>\n",
       "      <th>GDP per capita ($)</th>\n",
       "      <th>year</th>\n",
       "    </tr>\n",
       "  </thead>\n",
       "  <tbody>\n",
       "    <tr>\n",
       "      <td>397</td>\n",
       "      <td>49.00</td>\n",
       "      <td>China</td>\n",
       "      <td>CHN</td>\n",
       "      <td>2020CHN</td>\n",
       "      <td>8</td>\n",
       "      <td>1439323.80</td>\n",
       "      <td>77.10</td>\n",
       "      <td>5.77</td>\n",
       "      <td>3.74</td>\n",
       "      <td>45.60</td>\n",
       "      <td>1.55</td>\n",
       "      <td>..</td>\n",
       "      <td>2020</td>\n",
       "    </tr>\n",
       "  </tbody>\n",
       "</table>\n",
       "</div>"
      ],
      "text/plain": [
       "     HPI rank Country  ISO Unnamed: 3  Continent  Population (thousands)  \\\n",
       "397     49.00   China  CHN    2020CHN          8              1439323.80   \n",
       "\n",
       "     Life Expectancy (years)  Ladder of life (Wellbeing) (0-10)  \\\n",
       "397                    77.10                               5.77   \n",
       "\n",
       "     Ecological Footprint (g ha)   HPI  Biocapacity for year \\n(g ha)  \\\n",
       "397                         3.74 45.60                           1.55   \n",
       "\n",
       "    GDP per capita ($)  year  \n",
       "397                 ..  2020  "
      ]
     },
     "execution_count": 163,
     "metadata": {},
     "output_type": "execute_result"
    }
   ],
   "source": [
    "#check the max country Population \n",
    "df_hpi[df_hpi['Population (thousands)'] == df_hpi['Population (thousands)'].max()]"
   ]
  },
  {
   "cell_type": "code",
   "execution_count": 164,
   "metadata": {},
   "outputs": [
    {
     "data": {
      "text/html": [
       "<div>\n",
       "<style scoped>\n",
       "    .dataframe tbody tr th:only-of-type {\n",
       "        vertical-align: middle;\n",
       "    }\n",
       "\n",
       "    .dataframe tbody tr th {\n",
       "        vertical-align: top;\n",
       "    }\n",
       "\n",
       "    .dataframe thead th {\n",
       "        text-align: right;\n",
       "    }\n",
       "</style>\n",
       "<table border=\"1\" class=\"dataframe\">\n",
       "  <thead>\n",
       "    <tr style=\"text-align: right;\">\n",
       "      <th></th>\n",
       "      <th>HPI rank</th>\n",
       "      <th>Country</th>\n",
       "      <th>ISO</th>\n",
       "      <th>Unnamed: 3</th>\n",
       "      <th>Continent</th>\n",
       "      <th>Population (thousands)</th>\n",
       "      <th>Life Expectancy (years)</th>\n",
       "      <th>Ladder of life (Wellbeing) (0-10)</th>\n",
       "      <th>Ecological Footprint (g ha)</th>\n",
       "      <th>HPI</th>\n",
       "      <th>Biocapacity for year \\n(g ha)</th>\n",
       "      <th>GDP per capita ($)</th>\n",
       "      <th>year</th>\n",
       "    </tr>\n",
       "  </thead>\n",
       "  <tbody>\n",
       "    <tr>\n",
       "      <td>1</td>\n",
       "      <td>4.00</td>\n",
       "      <td>Vanuatu</td>\n",
       "      <td>VUT</td>\n",
       "      <td>2018VUT</td>\n",
       "      <td>8</td>\n",
       "      <td>292.70</td>\n",
       "      <td>70.30</td>\n",
       "      <td>6.87</td>\n",
       "      <td>1.62</td>\n",
       "      <td>59.60</td>\n",
       "      <td>1.57</td>\n",
       "      <td>3128</td>\n",
       "      <td>2018</td>\n",
       "    </tr>\n",
       "  </tbody>\n",
       "</table>\n",
       "</div>"
      ],
      "text/plain": [
       "   HPI rank  Country  ISO Unnamed: 3  Continent  Population (thousands)  \\\n",
       "1      4.00  Vanuatu  VUT    2018VUT          8                  292.70   \n",
       "\n",
       "   Life Expectancy (years)  Ladder of life (Wellbeing) (0-10)  \\\n",
       "1                    70.30                               6.87   \n",
       "\n",
       "   Ecological Footprint (g ha)   HPI  Biocapacity for year \\n(g ha)  \\\n",
       "1                         1.62 59.60                           1.57   \n",
       "\n",
       "  GDP per capita ($)  year  \n",
       "1               3128  2018  "
      ]
     },
     "execution_count": 164,
     "metadata": {},
     "output_type": "execute_result"
    }
   ],
   "source": [
    "#check the min country Population \n",
    "df_hpi[df_hpi['Population (thousands)'] == df_hpi['Population (thousands)'].min()]"
   ]
  },
  {
   "cell_type": "markdown",
   "metadata": {},
   "source": [
    "## Data Analysis"
   ]
  },
  {
   "cell_type": "markdown",
   "metadata": {},
   "source": [
    "### Q1: top 5 countries in 'Health: Population: Dynamics' topic"
   ]
  },
  {
   "cell_type": "code",
   "execution_count": 165,
   "metadata": {
    "scrolled": true
   },
   "outputs": [
    {
     "data": {
      "text/html": [
       "<div>\n",
       "<style scoped>\n",
       "    .dataframe tbody tr th:only-of-type {\n",
       "        vertical-align: middle;\n",
       "    }\n",
       "\n",
       "    .dataframe tbody tr th {\n",
       "        vertical-align: top;\n",
       "    }\n",
       "\n",
       "    .dataframe thead th {\n",
       "        text-align: right;\n",
       "    }\n",
       "</style>\n",
       "<table border=\"1\" class=\"dataframe\">\n",
       "  <thead>\n",
       "    <tr style=\"text-align: right;\">\n",
       "      <th></th>\n",
       "      <th>Topic</th>\n",
       "      <th>Indicator Code</th>\n",
       "      <th>Country Name</th>\n",
       "      <th>2018</th>\n",
       "    </tr>\n",
       "  </thead>\n",
       "  <tbody>\n",
       "    <tr>\n",
       "      <td>277110</td>\n",
       "      <td>Health: Population: Dynamics</td>\n",
       "      <td>SP.POP.DPND</td>\n",
       "      <td>Niger</td>\n",
       "      <td>110.88</td>\n",
       "    </tr>\n",
       "    <tr>\n",
       "      <td>277112</td>\n",
       "      <td>Health: Population: Dynamics</td>\n",
       "      <td>SP.POP.DPND.YG</td>\n",
       "      <td>Niger</td>\n",
       "      <td>105.41</td>\n",
       "    </tr>\n",
       "    <tr>\n",
       "      <td>246807</td>\n",
       "      <td>Health: Population: Dynamics</td>\n",
       "      <td>SP.POP.DPND</td>\n",
       "      <td>Mali</td>\n",
       "      <td>100.20</td>\n",
       "    </tr>\n",
       "    <tr>\n",
       "      <td>284486</td>\n",
       "      <td>Health: Population: Dynamics</td>\n",
       "      <td>SP.REG.BRTH.ZS</td>\n",
       "      <td>Oman</td>\n",
       "      <td>100.00</td>\n",
       "    </tr>\n",
       "    <tr>\n",
       "      <td>284487</td>\n",
       "      <td>Health: Population: Dynamics</td>\n",
       "      <td>SP.REG.BRTH.FE.ZS</td>\n",
       "      <td>Oman</td>\n",
       "      <td>100.00</td>\n",
       "    </tr>\n",
       "  </tbody>\n",
       "</table>\n",
       "</div>"
      ],
      "text/plain": [
       "                               Topic     Indicator Code Country Name   2018\n",
       "277110  Health: Population: Dynamics        SP.POP.DPND        Niger 110.88\n",
       "277112  Health: Population: Dynamics     SP.POP.DPND.YG        Niger 105.41\n",
       "246807  Health: Population: Dynamics        SP.POP.DPND         Mali 100.20\n",
       "284486  Health: Population: Dynamics     SP.REG.BRTH.ZS         Oman 100.00\n",
       "284487  Health: Population: Dynamics  SP.REG.BRTH.FE.ZS         Oman 100.00"
      ]
     },
     "execution_count": 165,
     "metadata": {},
     "output_type": "execute_result"
    }
   ],
   "source": [
    "q1 = custom_wdi_df[custom_wdi_df['Topic']=='Health: Population: Dynamics'].sort_values(by=['2018'],ascending=False)[:10]\n",
    "q1.head()"
   ]
  },
  {
   "cell_type": "code",
   "execution_count": 166,
   "metadata": {
    "scrolled": false
   },
   "outputs": [
    {
     "data": {
      "text/plain": [
       "<BarContainer object of 10 artists>"
      ]
     },
     "execution_count": 166,
     "metadata": {},
     "output_type": "execute_result"
    },
    {
     "data": {
      "image/png": "[encoded data removed]",
      "text/plain": [
       "<Figure size 432x288 with 1 Axes>"
      ]
     },
     "metadata": {
      "needs_background": "light"
     },
     "output_type": "display_data"
    }
   ],
   "source": [
    "plt.bar(q1['Country Name'], q1['2018'])"
   ]
  },
  {
   "cell_type": "markdown",
   "metadata": {},
   "source": [
    "### Q2: top 5 countries in 'Health: Disease prevention' topic"
   ]
  },
  {
   "cell_type": "code",
   "execution_count": 167,
   "metadata": {},
   "outputs": [
    {
     "data": {
      "text/plain": [
       "<BarContainer object of 14 artists>"
      ]
     },
     "execution_count": 167,
     "metadata": {},
     "output_type": "execute_result"
    },
    {
     "data": {
      "image/png": "[encoded data removed]",
      "text/plain": [
       "<Figure size 432x288 with 1 Axes>"
      ]
     },
     "metadata": {
      "needs_background": "light"
     },
     "output_type": "display_data"
    }
   ],
   "source": [
    "q2 = custom_wdi_df[custom_wdi_df['Topic']=='Education: Efficiency'].sort_values(by=['2018'],ascending=False)[:14]\n",
    "plt.bar(q2['Country Name'], q2['2018'])"
   ]
  },
  {
   "cell_type": "markdown",
   "metadata": {},
   "source": [
    "### Q3: top 5 countries in  'Economic Policy & Debt: National accounts: Shares of GDP & other' topic"
   ]
  },
  {
   "cell_type": "code",
   "execution_count": 168,
   "metadata": {},
   "outputs": [
    {
     "data": {
      "text/plain": [
       "<BarContainer object of 5 artists>"
      ]
     },
     "execution_count": 168,
     "metadata": {},
     "output_type": "execute_result"
    },
    {
     "data": {
      "image/png": "[encoded data removed]",
      "text/plain": [
       "<Figure size 432x288 with 1 Axes>"
      ]
     },
     "metadata": {
      "needs_background": "light"
     },
     "output_type": "display_data"
    }
   ],
   "source": [
    "q3 = custom_wdi_df[custom_wdi_df['Topic']=='Economic Policy & Debt: National accounts: Shares of GDP & other'].sort_values(by=['2018'],ascending=False)[:5]\n",
    "plt.bar(q3['Country Name'], q3['2018'])"
   ]
  },
  {
   "cell_type": "markdown",
   "metadata": {},
   "source": [
    "### 2. df_hpi"
   ]
  },
  {
   "cell_type": "code",
   "execution_count": 169,
   "metadata": {},
   "outputs": [],
   "source": [
    "def plotHPI(i):\n",
    "    \"\"\"\n",
    "    function to print a Plot of selected year\n",
    "    \"\"\"\n",
    "    q4 = df_hpi[df_hpi['year']==i].sort_values(by=['HPI'],ascending=False)[:5]\n",
    "    print(plt.bar(q4['Country'], q4['HPI']))\n",
    "    "
   ]
  },
  {
   "cell_type": "markdown",
   "metadata": {},
   "source": [
    "### what countries has the best HPI score of 2018?"
   ]
  },
  {
   "cell_type": "code",
   "execution_count": 170,
   "metadata": {},
   "outputs": [
    {
     "name": "stdout",
     "output_type": "stream",
     "text": [
      "<BarContainer object of 5 artists>\n"
     ]
    },
    {
     "data": {
      "image/png": "[encoded data removed]",
      "text/plain": [
       "<Figure size 432x288 with 1 Axes>"
      ]
     },
     "metadata": {
      "needs_background": "light"
     },
     "output_type": "display_data"
    }
   ],
   "source": [
    "plotHPI(2018)"
   ]
  },
  {
   "cell_type": "markdown",
   "metadata": {},
   "source": [
    "### what countries has the best HPI score of 2019?"
   ]
  },
  {
   "cell_type": "code",
   "execution_count": 171,
   "metadata": {
    "scrolled": true
   },
   "outputs": [
    {
     "name": "stdout",
     "output_type": "stream",
     "text": [
      "<BarContainer object of 5 artists>\n"
     ]
    },
    {
     "data": {
      "image/png": "[encoded data removed]",
      "text/plain": [
       "<Figure size 432x288 with 1 Axes>"
      ]
     },
     "metadata": {
      "needs_background": "light"
     },
     "output_type": "display_data"
    }
   ],
   "source": [
    "plotHPI(2019)"
   ]
  },
  {
   "cell_type": "markdown",
   "metadata": {},
   "source": [
    "### what countries has the best HPI score of 2020?"
   ]
  },
  {
   "cell_type": "code",
   "execution_count": 172,
   "metadata": {},
   "outputs": [
    {
     "name": "stdout",
     "output_type": "stream",
     "text": [
      "<BarContainer object of 5 artists>\n"
     ]
    },
    {
     "data": {
      "image/png": "[encoded data removed]",
      "text/plain": [
       "<Figure size 432x288 with 1 Axes>"
      ]
     },
     "metadata": {
      "needs_background": "light"
     },
     "output_type": "display_data"
    }
   ],
   "source": [
    "plotHPI(2020)"
   ]
  },
  {
   "cell_type": "markdown",
   "metadata": {},
   "source": [
    "### what is the most effective features on the HPI?"
   ]
  },
  {
   "cell_type": "code",
   "execution_count": 173,
   "metadata": {},
   "outputs": [
    {
     "data": {
      "image/png": "[encoded data removed]",
      "text/plain": [
       "<Figure size 720x504 with 2 Axes>"
      ]
     },
     "metadata": {
      "needs_background": "light"
     },
     "output_type": "display_data"
    }
   ],
   "source": [
    "plt.figure(figsize = (10,7))\n",
    "sns.heatmap(df_hpi.corr(), annot = True,linewidths=.5); "
   ]
  },
  {
   "cell_type": "markdown",
   "metadata": {},
   "source": [
    "### what is the mean of Population?"
   ]
  },
  {
   "cell_type": "code",
   "execution_count": 174,
   "metadata": {},
   "outputs": [
    {
     "data": {
      "text/plain": [
       "49735.591228070174"
      ]
     },
     "execution_count": 174,
     "metadata": {},
     "output_type": "execute_result"
    }
   ],
   "source": [
    "df_hpi['Population (thousands)'].describe()['mean']"
   ]
  },
  {
   "cell_type": "markdown",
   "metadata": {},
   "source": [
    "### what is the top 5 most populated countries?"
   ]
  },
  {
   "cell_type": "code",
   "execution_count": 175,
   "metadata": {},
   "outputs": [
    {
     "name": "stdout",
     "output_type": "stream",
     "text": [
      "<BarContainer object of 5 artists>\n"
     ]
    },
    {
     "data": {
      "image/png": "[encoded data removed]",
      "text/plain": [
       "<Figure size 720x504 with 1 Axes>"
      ]
     },
     "metadata": {
      "needs_background": "light"
     },
     "output_type": "display_data"
    }
   ],
   "source": [
    "q5 = df_hpi[df_hpi['year']==2018].sort_values(by=['Population (thousands)'],ascending=False)[:5]\n",
    "plt.figure(figsize = (10,7))\n",
    "print(plt.bar(q5['Country'], q5['Population (thousands)']))"
   ]
  },
  {
   "cell_type": "code",
   "execution_count": null,
   "metadata": {},
   "outputs": [],
   "source": []
  },
  {
   "cell_type": "markdown",
   "metadata": {},
   "source": [
    "## Modeling"
   ]
  },
  {
   "cell_type": "code",
   "execution_count": 176,
   "metadata": {},
   "outputs": [],
   "source": [
    "from sklearn.model_selection import train_test_split\n",
    "from sklearn import metrics\n",
    "from sklearn.metrics import roc_curve\n",
    "from sklearn.metrics import roc_auc_score\n",
    "from sklearn.svm import SVC, LinearSVC\n",
    "from sklearn.metrics import roc_curve,auc\n",
    "from sklearn.preprocessing import StandardScaler\n",
    "from sklearn import svm\n",
    "from sklearn.pipeline import Pipeline"
   ]
  },
  {
   "cell_type": "code",
   "execution_count": 177,
   "metadata": {},
   "outputs": [],
   "source": [
    "df_hpi['Continent']=np.nan_to_num(df_hpi['Continent'])\n",
    "df_hpi['Population (thousands)']=np.nan_to_num(df_hpi['Population (thousands)'])\n",
    "df_hpi['Life Expectancy (years)']=np.nan_to_num(df_hpi['Life Expectancy (years)'])\n",
    "df_hpi['Ladder of life (Wellbeing) (0-10)']=np.nan_to_num(df_hpi['Ecological Footprint (g ha)'])\n",
    "df_hpi['HPI']=np.nan_to_num(df_hpi['HPI'])"
   ]
  },
  {
   "cell_type": "code",
   "execution_count": 178,
   "metadata": {},
   "outputs": [],
   "source": [
    "features=df_hpi[['Population (thousands)', 'Life Expectancy (years)',\n",
    "       'Ladder of life (Wellbeing) (0-10)','year'\n",
    "                ]]\n",
    "\n",
    "#the target is Offer Event.  which is 'offer received', 'offer viewed', 'transaction', 'offer completed'\n",
    "target=df_hpi['HPI'].values\n",
    "\n",
    "#Creating training and testing sets\n",
    "x1_train, x1_test, y1_train, y1_test = train_test_split(features, target, test_size = 0.3, random_state = 0)\n",
    "\n",
    "# use StandardScaler() to Standardize features by removing the mean and scaling to unit variance.\n",
    "sc = StandardScaler()\n",
    "x1_train = sc.fit_transform(x1_train)\n",
    "x1_test = sc.transform(x1_test)"
   ]
  },
  {
   "cell_type": "code",
   "execution_count": 179,
   "metadata": {},
   "outputs": [
    {
     "data": {
      "text/plain": [
       "0     63.30\n",
       "1     59.60\n",
       "2     57.50\n",
       "3     58.10\n",
       "4     60.20\n",
       "       ... \n",
       "451   32.00\n",
       "452    0.00\n",
       "453    0.00\n",
       "454    0.00\n",
       "455    0.00\n",
       "Name: HPI, Length: 456, dtype: float64"
      ]
     },
     "execution_count": 179,
     "metadata": {},
     "output_type": "execute_result"
    }
   ],
   "source": [
    "df_hpi['HPI'].fillna(0)"
   ]
  },
  {
   "cell_type": "markdown",
   "metadata": {},
   "source": [
    "### Metrics:"
   ]
  },
  {
   "cell_type": "code",
   "execution_count": 180,
   "metadata": {},
   "outputs": [
    {
     "name": "stdout",
     "output_type": "stream",
     "text": [
      "Training set score:  0.2989147140709514\n",
      "Test set score:  0.29007817779917744\n",
      "mse = 244.26445238960048\n",
      "rmse = 15.62896197415556\n",
      "mae = 11.179655553904762\n",
      "mbe = -1.2087964974102927\n",
      "Coefficient of determination (R^2): 0.29\n"
     ]
    }
   ],
   "source": [
    "# 1. LinearRegression\n",
    "\n",
    "\n",
    "from sklearn import linear_model\n",
    "from sklearn.metrics import mean_squared_error, r2_score\n",
    "\n",
    "model = linear_model.LinearRegression()\n",
    "model.fit(x1_train, y1_train)\n",
    "print('Training set score: ', model.score(x1_train, y1_train))\n",
    "print('Test set score: ' ,model.score(x1_test, y1_test))\n",
    "y_pred = model.predict(x1_test)\n",
    "\n",
    "mse = mean_squared_error(y1_test, y_pred)\n",
    "rmse = math.sqrt(mse)\n",
    "mae = mean_absolute_error(y1_test, y_pred)\n",
    "mbe = sum([(y1_test[i] - y_pred[i]) for i in range(0, len(y1_test))]) / len(y1_test)\n",
    "\n",
    "print(\"mse = %s\" % mse)\n",
    "print(\"rmse = %s\" % rmse)\n",
    "print(\"mae = %s\" % mae)\n",
    "print(\"mbe = %s\" % mbe)\n",
    "\n",
    "print('Coefficient of determination (R^2): %.2f'\n",
    "      % r2_score(y1_test, y_pred))"
   ]
  },
  {
   "cell_type": "code",
   "execution_count": 181,
   "metadata": {},
   "outputs": [
    {
     "name": "stdout",
     "output_type": "stream",
     "text": [
      "Training set score:  0.5630784530045038\n",
      "Test set score:  0.6266201571289718\n",
      "mse = 128.46967088498255\n",
      "rmse = 11.334446209894091\n",
      "mae = 7.43913531723751\n",
      "mbe = 0.4952835485682421\n",
      "Coefficient of determination (R^2): 0.63\n"
     ]
    }
   ],
   "source": [
    "#2. Decision Tree\n",
    "\n",
    "from sklearn.tree import DecisionTreeRegressor\n",
    "\n",
    "dt =DecisionTreeRegressor(max_depth=2)\n",
    "dt.fit(x1_train, y1_train)\n",
    "print('Training set score: ', dt.score(x1_train, y1_train))\n",
    "print('Test set score: ' ,dt.score(x1_test, y1_test))\n",
    "y_pred = dt.predict(x1_test)\n",
    "#print(classification_report(y1_test, y_pred))\n",
    "\n",
    "mse = mean_squared_error(y1_test, y_pred)\n",
    "rmse = math.sqrt(mse)\n",
    "mae = mean_absolute_error(y1_test, y_pred)\n",
    "mbe = sum([(y1_test[i] - y_pred[i]) for i in range(0, len(y1_test))]) / len(y1_test)\n",
    "\n",
    "print(\"mse = %s\" % mse)\n",
    "print(\"rmse = %s\" % rmse)\n",
    "print(\"mae = %s\" % mae)\n",
    "print(\"mbe = %s\" % mbe)\n",
    "print('Coefficient of determination (R^2): %.2f'\n",
    "      % r2_score(y1_test, y_pred))"
   ]
  },
  {
   "cell_type": "code",
   "execution_count": 182,
   "metadata": {},
   "outputs": [
    {
     "name": "stdout",
     "output_type": "stream",
     "text": [
      "Training set score:  0.27232503137671693\n",
      "Test set score:  0.2299317705259314\n",
      "mse = 264.95916661919824\n",
      "rmse = 16.27756636046059\n",
      "mae = 10.235505030208925\n",
      "mbe = -5.2482405198370925\n",
      "Coefficient of determination (R^2): 0.23\n"
     ]
    }
   ],
   "source": [
    "#3. Support Vector Regression\n",
    "\n",
    "from sklearn.svm import SVR \n",
    "\n",
    "svr = SVR().fit(x1_train, y1_train)\n",
    "svr.fit(x1_train, y1_train)\n",
    "print('Training set score: ', svr.score(x1_train, y1_train))\n",
    "print('Test set score: ' ,svr.score(x1_test, y1_test))\n",
    "y_pred = svr.predict(x1_test)\n",
    "\n",
    "mse = mean_squared_error(y1_test, y_pred)\n",
    "rmse = math.sqrt(mse)\n",
    "mae = mean_absolute_error(y1_test, y_pred)\n",
    "mbe = sum([(y1_test[i] - y_pred[i]) for i in range(0, len(y1_test))]) / len(y1_test)\n",
    "\n",
    "print(\"mse = %s\" % mse)\n",
    "print(\"rmse = %s\" % rmse)\n",
    "print(\"mae = %s\" % mae)\n",
    "print(\"mbe = %s\" % mbe)\n",
    "print('Coefficient of determination (R^2): %.2f'\n",
    "      % r2_score(y1_test, y_pred))"
   ]
  },
  {
   "cell_type": "code",
   "execution_count": 183,
   "metadata": {},
   "outputs": [
    {
     "name": "stdout",
     "output_type": "stream",
     "text": [
      "Training set score:  0.2987549837417396\n",
      "Test set score:  0.2892575426065177\n",
      "mse = 244.54681024884368\n",
      "rmse = 15.63799252617943\n",
      "mae = 11.180957059805486\n",
      "mbe = -1.1962324592488642\n",
      "Coefficient of determination (R^2): 0.29\n"
     ]
    }
   ],
   "source": [
    "#4. Lasso Regression\n",
    "\n",
    "\n",
    "lasso = linear_model.Lasso(alpha=0.1)\n",
    "lasso.fit(x1_train, y1_train)\n",
    "print('Training set score: ', lasso.score(x1_train, y1_train))\n",
    "print('Test set score: ' ,lasso.score(x1_test, y1_test))\n",
    "y_pred = lasso.predict(x1_test)\n",
    "\n",
    "mse = mean_squared_error(y1_test, y_pred)\n",
    "rmse = math.sqrt(mse)\n",
    "mae = mean_absolute_error(y1_test, y_pred)\n",
    "mbe = sum([(y1_test[i] - y_pred[i]) for i in range(0, len(y1_test))]) / len(y1_test)\n",
    "\n",
    "print(\"mse = %s\" % mse)\n",
    "print(\"rmse = %s\" % rmse)\n",
    "print(\"mae = %s\" % mae)\n",
    "print(\"mbe = %s\" % mbe)\n",
    "print('Coefficient of determination (R^2): %.2f'\n",
    "      % r2_score(y1_test, y_pred))"
   ]
  },
  {
   "cell_type": "code",
   "execution_count": 184,
   "metadata": {},
   "outputs": [
    {
     "name": "stdout",
     "output_type": "stream",
     "text": [
      "Training set score:  0.6449816241626314\n",
      "Test set score:  0.6795699485586197\n",
      "mse = 110.25111300545335\n",
      "rmse = 10.50005300012592\n",
      "mae = 6.610002968337298\n",
      "mbe = 0.01817103223732739\n",
      "Coefficient of determination (R^2): 0.68\n"
     ]
    }
   ],
   "source": [
    "#5. Random Forest Regressor\n",
    "\n",
    "from sklearn.ensemble import RandomForestRegressor\n",
    "from sklearn.datasets import make_regression\n",
    "\n",
    "rfr = RandomForestRegressor(max_depth=3)\n",
    "rfr.fit(x1_train, y1_train)\n",
    "print('Training set score: ', rfr.score(x1_train, y1_train))\n",
    "print('Test set score: ' ,rfr.score(x1_test, y1_test))\n",
    "y_pred = rfr.predict(x1_test)\n",
    "\n",
    "mse = mean_squared_error(y1_test, y_pred)\n",
    "rmse = math.sqrt(mse)\n",
    "mae = mean_absolute_error(y1_test, y_pred)\n",
    "mbe = sum([(y1_test[i] - y_pred[i]) for i in range(0, len(y1_test))]) / len(y1_test)\n",
    "\n",
    "print(\"mse = %s\" % mse)\n",
    "print(\"rmse = %s\" % rmse)\n",
    "print(\"mae = %s\" % mae)\n",
    "print(\"mbe = %s\" % mbe)\n",
    "print('Coefficient of determination (R^2): %.2f'\n",
    "      % r2_score(y1_test, y_pred))"
   ]
  }
 ],
 "metadata": {
  "kernelspec": {
   "display_name": "Python 3",
   "language": "python",
   "name": "python3"
  },
  "language_info": {
   "codemirror_mode": {
    "name": "ipython",
    "version": 3
   },
   "file_extension": ".py",
   "mimetype": "text/x-python",
   "name": "python",
   "nbconvert_exporter": "python",
   "pygments_lexer": "ipython3",
   "version": "3.7.4"
  }
 },
 "nbformat": 4,
 "nbformat_minor": 2
}
